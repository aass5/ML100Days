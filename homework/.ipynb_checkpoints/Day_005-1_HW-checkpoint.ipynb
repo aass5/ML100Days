{
 "cells": [
  {
   "cell_type": "markdown",
   "metadata": {},
   "source": [
    "# [作業目標]\n",
    "- 利用範例的創建方式, 創建一組資料, 並練習如何取出最大值"
   ]
  },
  {
   "cell_type": "markdown",
   "metadata": {},
   "source": [
    "# [作業重點]\n",
    "- 練習創立 DataFrame (In[2])\n",
    "- 如何取出口數最多的國家 (In[3], Out[3])"
   ]
  },
  {
   "cell_type": "markdown",
   "metadata": {},
   "source": [
    "## 練習時間\n",
    "在小量的資料上，我們用眼睛就可以看得出來程式碼是否有跑出我們理想中的結果\n",
    "\n",
    "請嘗試想像一個你需要的資料結構 (裡面的值可以是隨機的)，然後用上述的方法把它變成 pandas DataFrame\n",
    "\n",
    "#### Ex: 想像一個 dataframe 有兩個欄位，一個是國家，一個是人口，求人口數最多的國家\n",
    "\n",
    "### Hints: [隨機產生數值](https://blog.csdn.net/christianashannon/article/details/78867204)"
   ]
  },
  {
   "cell_type": "code",
   "execution_count": 1,
   "metadata": {},
   "outputs": [],
   "source": [
    "import pandas as pd\n",
    "import numpy as np\n",
    "import random"
   ]
  },
  {
   "cell_type": "code",
   "execution_count": 8,
   "metadata": {},
   "outputs": [],
   "source": [
    "populaction = np.random.randint(200, size=15)\n",
    "data = {'國家': [\"台灣\",\"中國\",\"印度\",\"美國\",\"印尼\",\"巴西\",\"巴基斯坦\",\"奈及利亞\",\"孟加拉\",\"俄羅斯\",\"墨西哥\",\"日本\",\"菲律賓\",\"埃及\",\"衣索比亞\"],\n",
    "        '人口(十萬)': populaction}\n",
    "populaction_data = pd.DataFrame(data)"
   ]
  },
  {
   "cell_type": "code",
   "execution_count": 9,
   "metadata": {},
   "outputs": [
    {
     "name": "stdout",
     "output_type": "stream",
     "text": [
      "      國家  人口(十萬)\n",
      "0     台灣     125\n",
      "1     中國      51\n",
      "2     印度     134\n",
      "3     美國     197\n",
      "4     印尼      35\n",
      "5     巴西      62\n",
      "6   巴基斯坦      81\n",
      "7   奈及利亞      93\n",
      "8    孟加拉      60\n",
      "9    俄羅斯     138\n",
      "10   墨西哥     140\n",
      "11    日本      38\n",
      "12   菲律賓     135\n",
      "13    埃及     165\n",
      "14  衣索比亞      38\n"
     ]
    }
   ],
   "source": [
    "print(populaction_data)"
   ]
  },
  {
   "cell_type": "code",
   "execution_count": null,
   "metadata": {},
   "outputs": [],
   "source": []
  }
 ],
 "metadata": {
  "kernelspec": {
   "display_name": "Python 3",
   "language": "python",
   "name": "python3"
  },
  "language_info": {
   "codemirror_mode": {
    "name": "ipython",
    "version": 3
   },
   "file_extension": ".py",
   "mimetype": "text/x-python",
   "name": "python",
   "nbconvert_exporter": "python",
   "pygments_lexer": "ipython3",
   "version": "3.7.6"
  }
 },
 "nbformat": 4,
 "nbformat_minor": 2
}
