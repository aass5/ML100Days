{
 "cells": [
  {
   "cell_type": "markdown",
   "metadata": {},
   "source": [
    "# [作業目標]\n",
    "- 利用範例的創建方式, 創建一組資料, 並練習如何取出最大值"
   ]
  },
  {
   "cell_type": "markdown",
   "metadata": {},
   "source": [
    "# [作業重點]\n",
    "- 練習創立 DataFrame (In[2])\n",
    "- 如何取出口數最多的國家 (In[3], Out[3])"
   ]
  },
  {
   "cell_type": "markdown",
   "metadata": {},
   "source": [
    "## 練習時間\n",
    "在小量的資料上，我們用眼睛就可以看得出來程式碼是否有跑出我們理想中的結果\n",
    "\n",
    "請嘗試想像一個你需要的資料結構 (裡面的值可以是隨機的)，然後用上述的方法把它變成 pandas DataFrame\n",
    "\n",
    "#### Ex: 想像一個 dataframe 有兩個欄位，一個是國家，一個是人口，求人口數最多的國家\n",
    "\n",
    "### Hints: [隨機產生數值](https://blog.csdn.net/christianashannon/article/details/78867204)"
   ]
  },
  {
   "cell_type": "code",
   "execution_count": 23,
   "metadata": {},
   "outputs": [],
   "source": [
    "import pandas as pd\n",
    "import numpy as np\n",
    "import random"
   ]
  },
  {
   "cell_type": "code",
   "execution_count": 24,
   "metadata": {},
   "outputs": [],
   "source": [
    "populaction = np.random.randint(200, size=15)\n",
    "data = {'國家': [\"台灣\",\"中國\",\"印度\",\"美國\",\"印尼\",\"巴西\",\"巴基斯坦\",\"奈及利亞\",\"孟加拉\",\"俄羅斯\",\"墨西哥\",\"日本\",\"菲律賓\",\"埃及\",\"衣索比亞\"],\n",
    "        '人口(十萬)': populaction}\n",
    "populaction_data = pd.DataFrame(data)"
   ]
  },
  {
   "cell_type": "code",
   "execution_count": 25,
   "metadata": {},
   "outputs": [
    {
     "name": "stdout",
     "output_type": "stream",
     "text": [
      "      國家  人口(十萬)\n",
      "0     台灣      24\n",
      "1     中國     100\n",
      "2     印度      37\n",
      "3     美國      77\n",
      "4     印尼     127\n",
      "5     巴西      96\n",
      "6   巴基斯坦      39\n",
      "7   奈及利亞     151\n",
      "8    孟加拉     136\n",
      "9    俄羅斯     101\n",
      "10   墨西哥     106\n",
      "11    日本     145\n",
      "12   菲律賓     176\n",
      "13    埃及      17\n",
      "14  衣索比亞     145\n"
     ]
    }
   ],
   "source": [
    "print(populaction_data)"
   ]
  },
  {
   "cell_type": "code",
   "execution_count": 27,
   "metadata": {},
   "outputs": [
    {
     "name": "stdout",
     "output_type": "stream",
     "text": [
      "人口最多的國家: 菲律賓 ，總共有 1760萬人\n",
      "人口最少的國家: 埃及 ，總共有 170萬人\n"
     ]
    }
   ],
   "source": [
    "population_max_country = populaction_data['國家'][populaction_data['人口(十萬)'].idxmax()]\n",
    "population_min_country = populaction_data['國家'][populaction_data['人口(十萬)'].idxmin()]\n",
    "population_max = populaction_data['人口(十萬)'].max()\n",
    "population_min = populaction_data['人口(十萬)'].min()\n",
    "print('人口最多的國家:', population_max_country ,'，總共有 ' + str(population_max) + \"0萬人\")\n",
    "print('人口最少的國家:', population_min_country ,'，總共有 ' + str(population_min) + \"0萬人\")\n"
   ]
  },
  {
   "cell_type": "code",
   "execution_count": null,
   "metadata": {},
   "outputs": [],
   "source": []
  }
 ],
 "metadata": {
  "kernelspec": {
   "display_name": "Python 3",
   "language": "python",
   "name": "python3"
  },
  "language_info": {
   "codemirror_mode": {
    "name": "ipython",
    "version": 3
   },
   "file_extension": ".py",
   "mimetype": "text/x-python",
   "name": "python",
   "nbconvert_exporter": "python",
   "pygments_lexer": "ipython3",
   "version": "3.7.6"
  }
 },
 "nbformat": 4,
 "nbformat_minor": 2
}
